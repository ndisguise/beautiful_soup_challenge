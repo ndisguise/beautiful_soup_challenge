{
 "cells": [
  {
   "cell_type": "markdown",
   "metadata": {},
   "source": [
    "# Module 12 Challenge\n",
    "## Deliverable 1: Scrape Titles and Preview Text from Mars News"
   ]
  },
  {
   "cell_type": "code",
   "execution_count": 27,
   "metadata": {},
   "outputs": [],
   "source": [
    "# Import Splinter and BeautifulSoup\n",
    "from splinter import Browser\n",
    "from bs4 import BeautifulSoup\n",
    "from pprint import pprint"
   ]
  },
  {
   "cell_type": "code",
   "execution_count": 6,
   "metadata": {
    "scrolled": true
   },
   "outputs": [],
   "source": [
    "browser = Browser('chrome')"
   ]
  },
  {
   "cell_type": "markdown",
   "metadata": {},
   "source": [
    "### Step 1: Visit the Website\n",
    "\n",
    "1. Use automated browsing to visit the [Mars news site](https://static.bc-edx.com/data/web/mars_news/index.html). Inspect the page to identify which elements to scrape.\n",
    "\n",
    "      > **Hint** To identify which elements to scrape, you might want to inspect the page by using Chrome DevTools."
   ]
  },
  {
   "cell_type": "code",
   "execution_count": 7,
   "metadata": {},
   "outputs": [],
   "source": [
    "# Visit the Mars news site\n",
    "url = 'https://static.bc-edx.com/data/web/mars_news/index.html'\n",
    "browser.visit(url)"
   ]
  },
  {
   "cell_type": "markdown",
   "metadata": {},
   "source": [
    "### Step 2: Scrape the Website\n",
    "\n",
    "Create a Beautiful Soup object and use it to extract text elements from the website."
   ]
  },
  {
   "cell_type": "code",
   "execution_count": 18,
   "metadata": {},
   "outputs": [],
   "source": [
    "# Create a Beautiful Soup object\n",
    "html = browser.html\n",
    "\n",
    "soup = BeautifulSoup(html, 'html.parser')"
   ]
  },
  {
   "cell_type": "code",
   "execution_count": 22,
   "metadata": {},
   "outputs": [
    {
     "name": "stdout",
     "output_type": "stream",
     "text": [
      "[<div class=\"content_title\">NASA's MAVEN Observes Martian Light Show Caused by Major Solar Storm</div>, <div class=\"content_title\">NASA Prepares to Say 'Farewell' to InSight Spacecraft</div>, <div class=\"content_title\">NASA and ESA Agree on Next Steps to Return Mars Samples to Earth</div>, <div class=\"content_title\">NASA's InSight Lander Detects Stunning Meteoroid Impact on Mars</div>, <div class=\"content_title\">NASA To Host Briefing on InSight, Mars Reconnaissance Orbiter Findings</div>, <div class=\"content_title\">Why NASA Is Trying To Crash Land on Mars</div>, <div class=\"content_title\">Curiosity Mars Rover Reaches Long-Awaited Salty Region</div>, <div class=\"content_title\">Mars Mission Shields Up for Tests</div>, <div class=\"content_title\">NASA's InSight Waits Out Dust Storm</div>, <div class=\"content_title\">NASA's InSight 'Hears' Its First Meteoroid Impacts on Mars</div>, <div class=\"content_title\">NASA's Perseverance Rover Investigates Geologically Rich Mars Terrain</div>, <div class=\"content_title\">NASA to Host Briefing on Perseverance Mars Rover Mission Operations</div>, <div class=\"content_title\">NASA's Perseverance Makes New Discoveries in Mars' Jezero Crater</div>, <div class=\"content_title\">10 Years Since Landing, NASA's Curiosity Mars Rover Still Has Drive</div>, <div class=\"content_title\">SAM's Top 5 Discoveries Aboard NASA's Curiosity Rover at Mars</div>]\n",
      "[<div class=\"article_teaser_body\">For the first time in its eight years orbiting Mars, NASA’s MAVEN mission witnessed two different types of ultraviolet aurorae simultaneously, the result of solar storms that began on Aug. 27.</div>, <div class=\"article_teaser_body\">A closer look at what goes into wrapping up the mission as the spacecraft’s power supply continues to dwindle.</div>, <div class=\"article_teaser_body\">The agency’s Perseverance rover will establish the first sample depot on Mars.</div>, <div class=\"article_teaser_body\">The agency’s lander felt the ground shake during the impact while cameras aboard the Mars Reconnaissance Orbiter spotted the yawning new crater from space.</div>, <div class=\"article_teaser_body\">Scientists from two Mars missions will discuss how they combined images and data for a major finding on the Red Planet.</div>, <div class=\"article_teaser_body\">Like a car’s crumple zone, the experimental SHIELD lander is designed to absorb a hard impact.</div>, <div class=\"article_teaser_body\">After years of climbing, the Mars rover has arrived at a special region believed to have formed as Mars’ climate was drying.</div>, <div class=\"article_teaser_body\">Protecting Mars Sample Return spacecraft from micrometeorites requires high-caliber work.</div>, <div class=\"article_teaser_body\">InSight’s team is taking steps to help the solar-powered lander continue operating for as long as possible.</div>, <div class=\"article_teaser_body\">The Mars lander’s seismometer has picked up vibrations from four separate impacts in the past two years.</div>, <div class=\"article_teaser_body\">The latest findings provide greater detail on a region of the Red Planet that has a watery past and is yielding promising samples for the NASA-ESA Mars Sample Return campaign.</div>, <div class=\"article_teaser_body\">Members of the mission will discuss the rover’s activities as it gathers samples in an ancient river delta.</div>, <div class=\"article_teaser_body\">The rover found that Jezero Crater’s floor is made up of volcanic rocks that have interacted with water.</div>, <div class=\"article_teaser_body\">Despite signs of wear, the intrepid spacecraft is about to start an exciting new chapter of its mission as it climbs a Martian mountain.</div>, <div class=\"article_teaser_body\">“Selfie” of the Curiosity rover with inset showing the SAM instrument prior to installation on the rover.</div>]\n"
     ]
    }
   ],
   "source": [
    "# Extract all the text elements\n",
    "titles = soup.find_all('div', class_='content_title')\n",
    "preview = soup.find_all('div', class_='article_teaser_body')\n"
   ]
  },
  {
   "cell_type": "markdown",
   "metadata": {},
   "source": [
    "### Step 3: Store the Results\n",
    "\n",
    "Extract the titles and preview text of the news articles that you scraped. Store the scraping results in Python data structures as follows:\n",
    "\n",
    "* Store each title-and-preview pair in a Python dictionary. And, give each dictionary two keys: `title` and `preview`. An example is the following:\n",
    "\n",
    "  ```python\n",
    "  {'title': \"NASA's MAVEN Observes Martian Light Show Caused by Major Solar Storm\", \n",
    "   'preview': \"For the first time in its eight years orbiting Mars, NASA’s MAVEN mission witnessed two different types of ultraviolet aurorae simultaneously, the result of solar storms that began on Aug. 27.\"\n",
    "  }\n",
    "  ```\n",
    "\n",
    "* Store all the dictionaries in a Python list.\n",
    "\n",
    "* Print the list in your notebook."
   ]
  },
  {
   "cell_type": "code",
   "execution_count": 24,
   "metadata": {},
   "outputs": [],
   "source": [
    "# Create an empty list to store the dictionaries\n",
    "articles_list = []    "
   ]
  },
  {
   "cell_type": "code",
   "execution_count": 28,
   "metadata": {},
   "outputs": [
    {
     "name": "stdout",
     "output_type": "stream",
     "text": [
      "[{'title': \"NASA's MAVEN Observes Martian Light Show Caused by Major Solar Storm\", 'preview_text': 'For the first time in its eight years orbiting Mars, NASA’s MAVEN mission witnessed two different types of ultraviolet aurorae simultaneously, the result of solar storms that began on Aug. 27.'}, {'title': \"NASA Prepares to Say 'Farewell' to InSight Spacecraft\", 'preview_text': 'A closer look at what goes into wrapping up the mission as the spacecraft’s power supply continues to dwindle.'}, {'title': 'NASA and ESA Agree on Next Steps to Return Mars Samples to Earth', 'preview_text': 'The agency’s Perseverance rover will establish the first sample depot on Mars.'}, {'title': \"NASA's InSight Lander Detects Stunning Meteoroid Impact on Mars\", 'preview_text': 'The agency’s lander felt the ground shake during the impact while cameras aboard the Mars Reconnaissance Orbiter spotted the yawning new crater from space.'}, {'title': 'NASA To Host Briefing on InSight, Mars Reconnaissance Orbiter Findings', 'preview_text': 'Scientists from two Mars missions will discuss how they combined images and data for a major finding on the Red Planet.'}, {'title': 'Why NASA Is Trying To Crash Land on Mars', 'preview_text': 'Like a car’s crumple zone, the experimental SHIELD lander is designed to absorb a hard impact.'}, {'title': 'Curiosity Mars Rover Reaches Long-Awaited Salty Region', 'preview_text': 'After years of climbing, the Mars rover has arrived at a special region believed to have formed as Mars’ climate was drying.'}, {'title': 'Mars Mission Shields Up for Tests', 'preview_text': 'Protecting Mars Sample Return spacecraft from micrometeorites requires high-caliber work.'}, {'title': \"NASA's InSight Waits Out Dust Storm\", 'preview_text': 'InSight’s team is taking steps to help the solar-powered lander continue operating for as long as possible.'}, {'title': \"NASA's InSight 'Hears' Its First Meteoroid Impacts on Mars\", 'preview_text': 'The Mars lander’s seismometer has picked up vibrations from four separate impacts in the past two years.'}, {'title': \"NASA's Perseverance Rover Investigates Geologically Rich Mars Terrain\", 'preview_text': 'The latest findings provide greater detail on a region of the Red Planet that has a watery past and is yielding promising samples for the NASA-ESA Mars Sample Return campaign.'}, {'title': 'NASA to Host Briefing on Perseverance Mars Rover Mission Operations', 'preview_text': 'Members of the mission will discuss the rover’s activities as it gathers samples in an ancient river delta.'}, {'title': \"NASA's Perseverance Makes New Discoveries in Mars' Jezero Crater\", 'preview_text': 'The rover found that Jezero Crater’s floor is made up of volcanic rocks that have interacted with water.'}, {'title': \"10 Years Since Landing, NASA's Curiosity Mars Rover Still Has Drive\", 'preview_text': 'Despite signs of wear, the intrepid spacecraft is about to start an exciting new chapter of its mission as it climbs a Martian mountain.'}, {'title': \"SAM's Top 5 Discoveries Aboard NASA's Curiosity Rover at Mars\", 'preview_text': '“Selfie” of the Curiosity rover with inset showing the SAM instrument prior to installation on the rover.'}, {'title': \"NASA's MAVEN Observes Martian Light Show Caused by Major Solar Storm\", 'preview_text': 'For the first time in its eight years orbiting Mars, NASA’s MAVEN mission witnessed two different types of ultraviolet aurorae simultaneously, the result of solar storms that began on Aug. 27.'}, {'title': \"NASA Prepares to Say 'Farewell' to InSight Spacecraft\", 'preview_text': 'A closer look at what goes into wrapping up the mission as the spacecraft’s power supply continues to dwindle.'}, {'title': 'NASA and ESA Agree on Next Steps to Return Mars Samples to Earth', 'preview_text': 'The agency’s Perseverance rover will establish the first sample depot on Mars.'}, {'title': \"NASA's InSight Lander Detects Stunning Meteoroid Impact on Mars\", 'preview_text': 'The agency’s lander felt the ground shake during the impact while cameras aboard the Mars Reconnaissance Orbiter spotted the yawning new crater from space.'}, {'title': 'NASA To Host Briefing on InSight, Mars Reconnaissance Orbiter Findings', 'preview_text': 'Scientists from two Mars missions will discuss how they combined images and data for a major finding on the Red Planet.'}, {'title': 'Why NASA Is Trying To Crash Land on Mars', 'preview_text': 'Like a car’s crumple zone, the experimental SHIELD lander is designed to absorb a hard impact.'}, {'title': 'Curiosity Mars Rover Reaches Long-Awaited Salty Region', 'preview_text': 'After years of climbing, the Mars rover has arrived at a special region believed to have formed as Mars’ climate was drying.'}, {'title': 'Mars Mission Shields Up for Tests', 'preview_text': 'Protecting Mars Sample Return spacecraft from micrometeorites requires high-caliber work.'}, {'title': \"NASA's InSight Waits Out Dust Storm\", 'preview_text': 'InSight’s team is taking steps to help the solar-powered lander continue operating for as long as possible.'}, {'title': \"NASA's InSight 'Hears' Its First Meteoroid Impacts on Mars\", 'preview_text': 'The Mars lander’s seismometer has picked up vibrations from four separate impacts in the past two years.'}, {'title': \"NASA's Perseverance Rover Investigates Geologically Rich Mars Terrain\", 'preview_text': 'The latest findings provide greater detail on a region of the Red Planet that has a watery past and is yielding promising samples for the NASA-ESA Mars Sample Return campaign.'}, {'title': 'NASA to Host Briefing on Perseverance Mars Rover Mission Operations', 'preview_text': 'Members of the mission will discuss the rover’s activities as it gathers samples in an ancient river delta.'}, {'title': \"NASA's Perseverance Makes New Discoveries in Mars' Jezero Crater\", 'preview_text': 'The rover found that Jezero Crater’s floor is made up of volcanic rocks that have interacted with water.'}, {'title': \"10 Years Since Landing, NASA's Curiosity Mars Rover Still Has Drive\", 'preview_text': 'Despite signs of wear, the intrepid spacecraft is about to start an exciting new chapter of its mission as it climbs a Martian mountain.'}, {'title': \"SAM's Top 5 Discoveries Aboard NASA's Curiosity Rover at Mars\", 'preview_text': '“Selfie” of the Curiosity rover with inset showing the SAM instrument prior to installation on the rover.'}, {'title': \"NASA's MAVEN Observes Martian Light Show Caused by Major Solar Storm\", 'preview_text': 'For the first time in its eight years orbiting Mars, NASA’s MAVEN mission witnessed two different types of ultraviolet aurorae simultaneously, the result of solar storms that began on Aug. 27.'}, {'title': \"NASA Prepares to Say 'Farewell' to InSight Spacecraft\", 'preview_text': 'A closer look at what goes into wrapping up the mission as the spacecraft’s power supply continues to dwindle.'}, {'title': 'NASA and ESA Agree on Next Steps to Return Mars Samples to Earth', 'preview_text': 'The agency’s Perseverance rover will establish the first sample depot on Mars.'}, {'title': \"NASA's InSight Lander Detects Stunning Meteoroid Impact on Mars\", 'preview_text': 'The agency’s lander felt the ground shake during the impact while cameras aboard the Mars Reconnaissance Orbiter spotted the yawning new crater from space.'}, {'title': 'NASA To Host Briefing on InSight, Mars Reconnaissance Orbiter Findings', 'preview_text': 'Scientists from two Mars missions will discuss how they combined images and data for a major finding on the Red Planet.'}, {'title': 'Why NASA Is Trying To Crash Land on Mars', 'preview_text': 'Like a car’s crumple zone, the experimental SHIELD lander is designed to absorb a hard impact.'}, {'title': 'Curiosity Mars Rover Reaches Long-Awaited Salty Region', 'preview_text': 'After years of climbing, the Mars rover has arrived at a special region believed to have formed as Mars’ climate was drying.'}, {'title': 'Mars Mission Shields Up for Tests', 'preview_text': 'Protecting Mars Sample Return spacecraft from micrometeorites requires high-caliber work.'}, {'title': \"NASA's InSight Waits Out Dust Storm\", 'preview_text': 'InSight’s team is taking steps to help the solar-powered lander continue operating for as long as possible.'}, {'title': \"NASA's InSight 'Hears' Its First Meteoroid Impacts on Mars\", 'preview_text': 'The Mars lander’s seismometer has picked up vibrations from four separate impacts in the past two years.'}, {'title': \"NASA's Perseverance Rover Investigates Geologically Rich Mars Terrain\", 'preview_text': 'The latest findings provide greater detail on a region of the Red Planet that has a watery past and is yielding promising samples for the NASA-ESA Mars Sample Return campaign.'}, {'title': 'NASA to Host Briefing on Perseverance Mars Rover Mission Operations', 'preview_text': 'Members of the mission will discuss the rover’s activities as it gathers samples in an ancient river delta.'}, {'title': \"NASA's Perseverance Makes New Discoveries in Mars' Jezero Crater\", 'preview_text': 'The rover found that Jezero Crater’s floor is made up of volcanic rocks that have interacted with water.'}, {'title': \"10 Years Since Landing, NASA's Curiosity Mars Rover Still Has Drive\", 'preview_text': 'Despite signs of wear, the intrepid spacecraft is about to start an exciting new chapter of its mission as it climbs a Martian mountain.'}, {'title': \"SAM's Top 5 Discoveries Aboard NASA's Curiosity Rover at Mars\", 'preview_text': '“Selfie” of the Curiosity rover with inset showing the SAM instrument prior to installation on the rover.'}]\n"
     ]
    }
   ],
   "source": [
    "# Loop through the text elements\n",
    "# Extract the title and preview text from the elements\n",
    "# Store each title and preview pair in a dictionary\n",
    "# Add the dictionary to the list\n",
    "\n",
    "for i in range(len(titles)):\n",
    "    title = titles[i].text\n",
    "    preview_text = preview[i].text\n",
    "    articles_list.append({'title': title, 'preview_text': preview_text})\n",
    "\n",
    "\n",
    "\n"
   ]
  },
  {
   "cell_type": "code",
   "execution_count": 31,
   "metadata": {},
   "outputs": [
    {
     "name": "stdout",
     "output_type": "stream",
     "text": [
      "[{'preview_text': 'For the first time in its eight years orbiting Mars, NASA’s '\n",
      "                  'MAVEN mission witnessed two different types of ultraviolet '\n",
      "                  'aurorae simultaneously, the result of solar storms that '\n",
      "                  'began on Aug. 27.',\n",
      "  'title': \"NASA's MAVEN Observes Martian Light Show Caused by Major Solar \"\n",
      "           'Storm'},\n",
      " {'preview_text': 'A closer look at what goes into wrapping up the mission as '\n",
      "                  'the spacecraft’s power supply continues to dwindle.',\n",
      "  'title': \"NASA Prepares to Say 'Farewell' to InSight Spacecraft\"},\n",
      " {'preview_text': 'The agency’s Perseverance rover will establish the first '\n",
      "                  'sample depot on Mars.',\n",
      "  'title': 'NASA and ESA Agree on Next Steps to Return Mars Samples to Earth'},\n",
      " {'preview_text': 'The agency’s lander felt the ground shake during the impact '\n",
      "                  'while cameras aboard the Mars Reconnaissance Orbiter '\n",
      "                  'spotted the yawning new crater from space.',\n",
      "  'title': \"NASA's InSight Lander Detects Stunning Meteoroid Impact on Mars\"},\n",
      " {'preview_text': 'Scientists from two Mars missions will discuss how they '\n",
      "                  'combined images and data for a major finding on the Red '\n",
      "                  'Planet.',\n",
      "  'title': 'NASA To Host Briefing on InSight, Mars Reconnaissance Orbiter '\n",
      "           'Findings'},\n",
      " {'preview_text': 'Like a car’s crumple zone, the experimental SHIELD lander '\n",
      "                  'is designed to absorb a hard impact.',\n",
      "  'title': 'Why NASA Is Trying To Crash Land on Mars'},\n",
      " {'preview_text': 'After years of climbing, the Mars rover has arrived at a '\n",
      "                  'special region believed to have formed as Mars’ climate was '\n",
      "                  'drying.',\n",
      "  'title': 'Curiosity Mars Rover Reaches Long-Awaited Salty Region'},\n",
      " {'preview_text': 'Protecting Mars Sample Return spacecraft from '\n",
      "                  'micrometeorites requires high-caliber work.',\n",
      "  'title': 'Mars Mission Shields Up for Tests'},\n",
      " {'preview_text': 'InSight’s team is taking steps to help the solar-powered '\n",
      "                  'lander continue operating for as long as possible.',\n",
      "  'title': \"NASA's InSight Waits Out Dust Storm\"},\n",
      " {'preview_text': 'The Mars lander’s seismometer has picked up vibrations from '\n",
      "                  'four separate impacts in the past two years.',\n",
      "  'title': \"NASA's InSight 'Hears' Its First Meteoroid Impacts on Mars\"},\n",
      " {'preview_text': 'The latest findings provide greater detail on a region of '\n",
      "                  'the Red Planet that has a watery past and is yielding '\n",
      "                  'promising samples for the NASA-ESA Mars Sample Return '\n",
      "                  'campaign.',\n",
      "  'title': \"NASA's Perseverance Rover Investigates Geologically Rich Mars \"\n",
      "           'Terrain'},\n",
      " {'preview_text': 'Members of the mission will discuss the rover’s activities '\n",
      "                  'as it gathers samples in an ancient river delta.',\n",
      "  'title': 'NASA to Host Briefing on Perseverance Mars Rover Mission '\n",
      "           'Operations'},\n",
      " {'preview_text': 'The rover found that Jezero Crater’s floor is made up of '\n",
      "                  'volcanic rocks that have interacted with water.',\n",
      "  'title': \"NASA's Perseverance Makes New Discoveries in Mars' Jezero Crater\"},\n",
      " {'preview_text': 'Despite signs of wear, the intrepid spacecraft is about to '\n",
      "                  'start an exciting new chapter of its mission as it climbs a '\n",
      "                  'Martian mountain.',\n",
      "  'title': \"10 Years Since Landing, NASA's Curiosity Mars Rover Still Has \"\n",
      "           'Drive'},\n",
      " {'preview_text': '“Selfie” of the Curiosity rover with inset showing the SAM '\n",
      "                  'instrument prior to installation on the rover.',\n",
      "  'title': \"SAM's Top 5 Discoveries Aboard NASA's Curiosity Rover at Mars\"},\n",
      " {'preview_text': 'For the first time in its eight years orbiting Mars, NASA’s '\n",
      "                  'MAVEN mission witnessed two different types of ultraviolet '\n",
      "                  'aurorae simultaneously, the result of solar storms that '\n",
      "                  'began on Aug. 27.',\n",
      "  'title': \"NASA's MAVEN Observes Martian Light Show Caused by Major Solar \"\n",
      "           'Storm'},\n",
      " {'preview_text': 'A closer look at what goes into wrapping up the mission as '\n",
      "                  'the spacecraft’s power supply continues to dwindle.',\n",
      "  'title': \"NASA Prepares to Say 'Farewell' to InSight Spacecraft\"},\n",
      " {'preview_text': 'The agency’s Perseverance rover will establish the first '\n",
      "                  'sample depot on Mars.',\n",
      "  'title': 'NASA and ESA Agree on Next Steps to Return Mars Samples to Earth'},\n",
      " {'preview_text': 'The agency’s lander felt the ground shake during the impact '\n",
      "                  'while cameras aboard the Mars Reconnaissance Orbiter '\n",
      "                  'spotted the yawning new crater from space.',\n",
      "  'title': \"NASA's InSight Lander Detects Stunning Meteoroid Impact on Mars\"},\n",
      " {'preview_text': 'Scientists from two Mars missions will discuss how they '\n",
      "                  'combined images and data for a major finding on the Red '\n",
      "                  'Planet.',\n",
      "  'title': 'NASA To Host Briefing on InSight, Mars Reconnaissance Orbiter '\n",
      "           'Findings'},\n",
      " {'preview_text': 'Like a car’s crumple zone, the experimental SHIELD lander '\n",
      "                  'is designed to absorb a hard impact.',\n",
      "  'title': 'Why NASA Is Trying To Crash Land on Mars'},\n",
      " {'preview_text': 'After years of climbing, the Mars rover has arrived at a '\n",
      "                  'special region believed to have formed as Mars’ climate was '\n",
      "                  'drying.',\n",
      "  'title': 'Curiosity Mars Rover Reaches Long-Awaited Salty Region'},\n",
      " {'preview_text': 'Protecting Mars Sample Return spacecraft from '\n",
      "                  'micrometeorites requires high-caliber work.',\n",
      "  'title': 'Mars Mission Shields Up for Tests'},\n",
      " {'preview_text': 'InSight’s team is taking steps to help the solar-powered '\n",
      "                  'lander continue operating for as long as possible.',\n",
      "  'title': \"NASA's InSight Waits Out Dust Storm\"},\n",
      " {'preview_text': 'The Mars lander’s seismometer has picked up vibrations from '\n",
      "                  'four separate impacts in the past two years.',\n",
      "  'title': \"NASA's InSight 'Hears' Its First Meteoroid Impacts on Mars\"},\n",
      " {'preview_text': 'The latest findings provide greater detail on a region of '\n",
      "                  'the Red Planet that has a watery past and is yielding '\n",
      "                  'promising samples for the NASA-ESA Mars Sample Return '\n",
      "                  'campaign.',\n",
      "  'title': \"NASA's Perseverance Rover Investigates Geologically Rich Mars \"\n",
      "           'Terrain'},\n",
      " {'preview_text': 'Members of the mission will discuss the rover’s activities '\n",
      "                  'as it gathers samples in an ancient river delta.',\n",
      "  'title': 'NASA to Host Briefing on Perseverance Mars Rover Mission '\n",
      "           'Operations'},\n",
      " {'preview_text': 'The rover found that Jezero Crater’s floor is made up of '\n",
      "                  'volcanic rocks that have interacted with water.',\n",
      "  'title': \"NASA's Perseverance Makes New Discoveries in Mars' Jezero Crater\"},\n",
      " {'preview_text': 'Despite signs of wear, the intrepid spacecraft is about to '\n",
      "                  'start an exciting new chapter of its mission as it climbs a '\n",
      "                  'Martian mountain.',\n",
      "  'title': \"10 Years Since Landing, NASA's Curiosity Mars Rover Still Has \"\n",
      "           'Drive'},\n",
      " {'preview_text': '“Selfie” of the Curiosity rover with inset showing the SAM '\n",
      "                  'instrument prior to installation on the rover.',\n",
      "  'title': \"SAM's Top 5 Discoveries Aboard NASA's Curiosity Rover at Mars\"},\n",
      " {'preview_text': 'For the first time in its eight years orbiting Mars, NASA’s '\n",
      "                  'MAVEN mission witnessed two different types of ultraviolet '\n",
      "                  'aurorae simultaneously, the result of solar storms that '\n",
      "                  'began on Aug. 27.',\n",
      "  'title': \"NASA's MAVEN Observes Martian Light Show Caused by Major Solar \"\n",
      "           'Storm'},\n",
      " {'preview_text': 'A closer look at what goes into wrapping up the mission as '\n",
      "                  'the spacecraft’s power supply continues to dwindle.',\n",
      "  'title': \"NASA Prepares to Say 'Farewell' to InSight Spacecraft\"},\n",
      " {'preview_text': 'The agency’s Perseverance rover will establish the first '\n",
      "                  'sample depot on Mars.',\n",
      "  'title': 'NASA and ESA Agree on Next Steps to Return Mars Samples to Earth'},\n",
      " {'preview_text': 'The agency’s lander felt the ground shake during the impact '\n",
      "                  'while cameras aboard the Mars Reconnaissance Orbiter '\n",
      "                  'spotted the yawning new crater from space.',\n",
      "  'title': \"NASA's InSight Lander Detects Stunning Meteoroid Impact on Mars\"},\n",
      " {'preview_text': 'Scientists from two Mars missions will discuss how they '\n",
      "                  'combined images and data for a major finding on the Red '\n",
      "                  'Planet.',\n",
      "  'title': 'NASA To Host Briefing on InSight, Mars Reconnaissance Orbiter '\n",
      "           'Findings'},\n",
      " {'preview_text': 'Like a car’s crumple zone, the experimental SHIELD lander '\n",
      "                  'is designed to absorb a hard impact.',\n",
      "  'title': 'Why NASA Is Trying To Crash Land on Mars'},\n",
      " {'preview_text': 'After years of climbing, the Mars rover has arrived at a '\n",
      "                  'special region believed to have formed as Mars’ climate was '\n",
      "                  'drying.',\n",
      "  'title': 'Curiosity Mars Rover Reaches Long-Awaited Salty Region'},\n",
      " {'preview_text': 'Protecting Mars Sample Return spacecraft from '\n",
      "                  'micrometeorites requires high-caliber work.',\n",
      "  'title': 'Mars Mission Shields Up for Tests'},\n",
      " {'preview_text': 'InSight’s team is taking steps to help the solar-powered '\n",
      "                  'lander continue operating for as long as possible.',\n",
      "  'title': \"NASA's InSight Waits Out Dust Storm\"},\n",
      " {'preview_text': 'The Mars lander’s seismometer has picked up vibrations from '\n",
      "                  'four separate impacts in the past two years.',\n",
      "  'title': \"NASA's InSight 'Hears' Its First Meteoroid Impacts on Mars\"},\n",
      " {'preview_text': 'The latest findings provide greater detail on a region of '\n",
      "                  'the Red Planet that has a watery past and is yielding '\n",
      "                  'promising samples for the NASA-ESA Mars Sample Return '\n",
      "                  'campaign.',\n",
      "  'title': \"NASA's Perseverance Rover Investigates Geologically Rich Mars \"\n",
      "           'Terrain'},\n",
      " {'preview_text': 'Members of the mission will discuss the rover’s activities '\n",
      "                  'as it gathers samples in an ancient river delta.',\n",
      "  'title': 'NASA to Host Briefing on Perseverance Mars Rover Mission '\n",
      "           'Operations'},\n",
      " {'preview_text': 'The rover found that Jezero Crater’s floor is made up of '\n",
      "                  'volcanic rocks that have interacted with water.',\n",
      "  'title': \"NASA's Perseverance Makes New Discoveries in Mars' Jezero Crater\"},\n",
      " {'preview_text': 'Despite signs of wear, the intrepid spacecraft is about to '\n",
      "                  'start an exciting new chapter of its mission as it climbs a '\n",
      "                  'Martian mountain.',\n",
      "  'title': \"10 Years Since Landing, NASA's Curiosity Mars Rover Still Has \"\n",
      "           'Drive'},\n",
      " {'preview_text': '“Selfie” of the Curiosity rover with inset showing the SAM '\n",
      "                  'instrument prior to installation on the rover.',\n",
      "  'title': \"SAM's Top 5 Discoveries Aboard NASA's Curiosity Rover at Mars\"}]\n"
     ]
    }
   ],
   "source": [
    "# Print the list to confirm success\n",
    "\n",
    "pprint(articles_list)"
   ]
  },
  {
   "cell_type": "code",
   "execution_count": 30,
   "metadata": {},
   "outputs": [],
   "source": [
    "browser.quit()"
   ]
  },
  {
   "cell_type": "code",
   "execution_count": null,
   "metadata": {},
   "outputs": [],
   "source": []
  }
 ],
 "metadata": {
  "kernelspec": {
   "display_name": "Python 3 (ipykernel)",
   "language": "python",
   "name": "python3"
  },
  "language_info": {
   "codemirror_mode": {
    "name": "ipython",
    "version": 3
   },
   "file_extension": ".py",
   "mimetype": "text/x-python",
   "name": "python",
   "nbconvert_exporter": "python",
   "pygments_lexer": "ipython3",
   "version": "3.10.12"
  },
  "vscode": {
   "interpreter": {
    "hash": "31f2aee4e71d21fbe5cf8b01ff0e069b9275f58929596ceb00d14d90e3e16cd6"
   }
  }
 },
 "nbformat": 4,
 "nbformat_minor": 4
}
